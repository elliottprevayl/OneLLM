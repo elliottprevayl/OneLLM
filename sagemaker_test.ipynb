{
 "cells": [
  {
   "cell_type": "code",
   "execution_count": null,
   "outputs": [],
   "source": [
    "input_path = r''\n",
    "modality = 'image' # 'image', 'video' , 'audio' , 'point','imu','fmri','depth','normal"
   ],
   "metadata": {
    "collapsed": false
   },
   "id": "e62e213529543820"
  },
  {
   "cell_type": "code",
   "execution_count": null,
   "id": "initial_id",
   "metadata": {
    "collapsed": true
   },
   "outputs": [],
   "source": [
    "import torchvision.transforms as transforms\n",
    "from PIL import Image\n",
    "from model.meta import MetaModel\n",
    "import torch\n",
    "from data.conversation_lib import conv_templates, SeparatorStyle\n",
    "\n",
    "\n",
    "T_random_resized_crop = transforms.Compose([\n",
    "    transforms.RandomResizedCrop(size=(224, 224), scale=(0.9, 1.0), ratio=(0.75, 1.3333), interpolation=3,\n",
    "                                 antialias=None),  # 3 is bicubic\n",
    "    transforms.ToTensor(),\n",
    "    transforms.Normalize(mean=[0.48145466, 0.4578275, 0.40821073], std=[0.26862954, 0.26130258, 0.27577711])])\n",
    "\n",
    "\n",
    "\n",
    "model = MetaModel(llama_type='onellm', llama_config=r'config/llama2/7B.json',\n",
    "                  tokenizer_path=r'config/llama2/tokenizer.model')\n",
    "\n",
    "# load weights\n",
    "checkpoint = torch.load(r'weights_dir/consolidated.00-of-01.pth', map_location='cpu')\n",
    "msg = model.load_state_dict(checkpoint, strict=False)\n",
    "print(\"load result:\\n\", msg)\n",
    "model.cuda()\n",
    "model.eval()\n",
    "print(f\"Model = {str(model)}\")\n",
    "# load data (IMAGE)\n",
    "image = Image.open(input_path).convert('RGB')\n",
    "inputs = T_random_resized_crop(image)\n",
    "conv = conv_templates[\"v1\"].copy()\n",
    "\n",
    "# conv.append_message(conv.roles[0], user)\n",
    "# conv.append_message(conv.roles[1], bot)\n",
    "    \n",
    "stream_response = model.stream_generate(\n",
    "                'tell me more about this input', inputs,\n",
    "                max_gen_len=1024, temperature=0.1, top_p=0.75,\n",
    "                modal = 'image'\n",
    "            )\n",
    "conv_sep = (\n",
    "                    conv.sep\n",
    "                    if conv.sep_style == SeparatorStyle.SINGLE\n",
    "                    else conv.sep2\n",
    "                )\n",
    "print(stream_response)\n",
    "\n",
    "end_pos = stream_response[\"text\"].find(conv_sep)\n",
    "if end_pos != -1:\n",
    "    stream_response[\"text\"] = (\n",
    "        stream_response['text'][:end_pos].rstrip() + \"\\n\"\n",
    "    )\n",
    "    stream_response[\"end_of_content\"] = True\n",
    "\n",
    "# keep a few characters if not end_of_content to avoid sending\n",
    "# part of conv_sep before all of it is generated.\n",
    "if not stream_response[\"end_of_content\"]:\n",
    "    stream_response[\"text\"] = (\n",
    "        stream_response[\"text\"][:-len(conv_sep)]\n",
    "    )"
   ]
  }
 ],
 "metadata": {
  "kernelspec": {
   "display_name": "Python 3",
   "language": "python",
   "name": "python3"
  },
  "language_info": {
   "codemirror_mode": {
    "name": "ipython",
    "version": 2
   },
   "file_extension": ".py",
   "mimetype": "text/x-python",
   "name": "python",
   "nbconvert_exporter": "python",
   "pygments_lexer": "ipython2",
   "version": "2.7.6"
  }
 },
 "nbformat": 4,
 "nbformat_minor": 5
}
