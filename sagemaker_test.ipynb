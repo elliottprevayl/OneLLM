{
 "cells": [
  {
   "cell_type": "code",
   "execution_count": null,
   "outputs": [],
   "source": [
    "input_path = r'image.jpg'\n",
    "modality = 'image' # 'image', 'video' , 'audio' , 'point','imu','fmri','depth','normal"
   ],
   "metadata": {
    "collapsed": false
   },
   "id": "e62e213529543820"
  },
  {
   "cell_type": "code",
   "execution_count": 4,
   "outputs": [
    {
     "data": {
      "text/plain": "<function torch.nn.init.normal_(tensor: torch.Tensor, mean: float = 0.0, std: float = 1.0, generator: Optional[torch._C.Generator] = None) -> torch.Tensor>"
     },
     "execution_count": 4,
     "metadata": {},
     "output_type": "execute_result"
    }
   ],
   "source": [],
   "metadata": {
    "collapsed": false,
    "ExecuteTime": {
     "end_time": "2024-02-21T11:05:34.446705Z",
     "start_time": "2024-02-21T11:05:34.442491Z"
    }
   },
   "id": "8ef6bd53d93b6f5d"
  },
  {
   "cell_type": "code",
   "execution_count": 8,
   "outputs": [
    {
     "data": {
      "text/plain": "Linear(in_features=16, out_features=16, bias=True)"
     },
     "execution_count": 8,
     "metadata": {},
     "output_type": "execute_result"
    }
   ],
   "source": [
    "nn.Linear(16,16)"
   ],
   "metadata": {
    "collapsed": false,
    "ExecuteTime": {
     "end_time": "2024-02-21T11:55:57.427405Z",
     "start_time": "2024-02-21T11:55:57.412180Z"
    }
   },
   "id": "d486a7cdf4b59ae3"
  },
  {
   "cell_type": "code",
   "execution_count": 5,
   "outputs": [
    {
     "ename": "AssertionError",
     "evalue": "model parallel group is not initialized",
     "output_type": "error",
     "traceback": [
      "\u001B[0;31m---------------------------------------------------------------------------\u001B[0m",
      "\u001B[0;31mAssertionError\u001B[0m                            Traceback (most recent call last)",
      "Cell \u001B[0;32mIn[5], line 10\u001B[0m\n\u001B[1;32m      6\u001B[0m \u001B[38;5;28;01mfrom\u001B[39;00m \u001B[38;5;21;01mfairscale\u001B[39;00m\u001B[38;5;21;01m.\u001B[39;00m\u001B[38;5;21;01mnn\u001B[39;00m\u001B[38;5;21;01m.\u001B[39;00m\u001B[38;5;21;01mmodel_parallel\u001B[39;00m \u001B[38;5;28;01mimport\u001B[39;00m initialize \u001B[38;5;28;01mas\u001B[39;00m fs_init\n\u001B[1;32m      8\u001B[0m \u001B[38;5;28;01mfrom\u001B[39;00m \u001B[38;5;21;01mtorch\u001B[39;00m \u001B[38;5;28;01mimport\u001B[39;00m nn\n\u001B[0;32m---> 10\u001B[0m \u001B[43mParallelEmbedding\u001B[49m\u001B[43m(\u001B[49m\n\u001B[1;32m     11\u001B[0m \u001B[43m            \u001B[49m\u001B[38;5;241;43m1024\u001B[39;49m\u001B[43m,\u001B[49m\u001B[43m \u001B[49m\u001B[38;5;241;43m2\u001B[39;49m\u001B[43m,\u001B[49m\u001B[43m \u001B[49m\u001B[43minit_method\u001B[49m\u001B[38;5;241;43m=\u001B[39;49m\u001B[43mnn\u001B[49m\u001B[38;5;241;43m.\u001B[39;49m\u001B[43minit\u001B[49m\u001B[38;5;241;43m.\u001B[39;49m\u001B[43mnormal_\u001B[49m\u001B[43m,\u001B[49m\n\u001B[1;32m     12\u001B[0m \u001B[43m        \u001B[49m\u001B[43m)\u001B[49m\n",
      "File \u001B[0;32m~/anaconda3/envs/OneLLM/lib/python3.11/site-packages/fairscale/nn/model_parallel/layers.py:186\u001B[0m, in \u001B[0;36mParallelEmbedding.__init__\u001B[0;34m(self, num_embeddings, embedding_dim, padding_idx, max_norm, norm_type, scale_grad_by_freq, sparse, init_method, keep_master_weight_for_test)\u001B[0m\n\u001B[1;32m    184\u001B[0m \u001B[38;5;28mself\u001B[39m\u001B[38;5;241m.\u001B[39m_weight \u001B[38;5;241m=\u001B[39m \u001B[38;5;28;01mNone\u001B[39;00m\n\u001B[1;32m    185\u001B[0m \u001B[38;5;66;03m# Divide the weight matrix along the embedding dimension.\u001B[39;00m\n\u001B[0;32m--> 186\u001B[0m world_size \u001B[38;5;241m=\u001B[39m \u001B[43mget_model_parallel_world_size\u001B[49m\u001B[43m(\u001B[49m\u001B[43m)\u001B[49m\n\u001B[1;32m    187\u001B[0m \u001B[38;5;28mself\u001B[39m\u001B[38;5;241m.\u001B[39membedding_dim_per_partition \u001B[38;5;241m=\u001B[39m divide_and_check_no_remainder(\u001B[38;5;28mself\u001B[39m\u001B[38;5;241m.\u001B[39membedding_dim, world_size)\n\u001B[1;32m    189\u001B[0m \u001B[38;5;66;03m# Allocate weights.\u001B[39;00m\n",
      "File \u001B[0;32m~/anaconda3/envs/OneLLM/lib/python3.11/site-packages/fairscale/nn/model_parallel/initialize.py:152\u001B[0m, in \u001B[0;36mget_model_parallel_world_size\u001B[0;34m()\u001B[0m\n\u001B[1;32m    150\u001B[0m \u001B[38;5;28;01mdef\u001B[39;00m \u001B[38;5;21mget_model_parallel_world_size\u001B[39m() \u001B[38;5;241m-\u001B[39m\u001B[38;5;241m>\u001B[39m \u001B[38;5;28mint\u001B[39m:\n\u001B[1;32m    151\u001B[0m \u001B[38;5;250m    \u001B[39m\u001B[38;5;124;03m\"\"\"Return world size for the model parallel group.\"\"\"\u001B[39;00m\n\u001B[0;32m--> 152\u001B[0m     \u001B[38;5;28;01mreturn\u001B[39;00m torch\u001B[38;5;241m.\u001B[39mdistributed\u001B[38;5;241m.\u001B[39mget_world_size(group\u001B[38;5;241m=\u001B[39m\u001B[43mget_model_parallel_group\u001B[49m\u001B[43m(\u001B[49m\u001B[43m)\u001B[49m)\n",
      "File \u001B[0;32m~/anaconda3/envs/OneLLM/lib/python3.11/site-packages/fairscale/nn/model_parallel/initialize.py:128\u001B[0m, in \u001B[0;36mget_model_parallel_group\u001B[0;34m()\u001B[0m\n\u001B[1;32m    126\u001B[0m \u001B[38;5;28;01mdef\u001B[39;00m \u001B[38;5;21mget_model_parallel_group\u001B[39m() \u001B[38;5;241m-\u001B[39m\u001B[38;5;241m>\u001B[39m torch\u001B[38;5;241m.\u001B[39mdistributed\u001B[38;5;241m.\u001B[39mProcessGroup:\n\u001B[1;32m    127\u001B[0m \u001B[38;5;250m    \u001B[39m\u001B[38;5;124;03m\"\"\"Get the model parallel group the caller rank belongs to.\"\"\"\u001B[39;00m\n\u001B[0;32m--> 128\u001B[0m     \u001B[38;5;28;01massert\u001B[39;00m _MODEL_PARALLEL_GROUP \u001B[38;5;129;01mis\u001B[39;00m \u001B[38;5;129;01mnot\u001B[39;00m \u001B[38;5;28;01mNone\u001B[39;00m, \u001B[38;5;124m\"\u001B[39m\u001B[38;5;124mmodel parallel group is not initialized\u001B[39m\u001B[38;5;124m\"\u001B[39m\n\u001B[1;32m    129\u001B[0m     \u001B[38;5;28;01mreturn\u001B[39;00m _MODEL_PARALLEL_GROUP\n",
      "\u001B[0;31mAssertionError\u001B[0m: model parallel group is not initialized"
     ]
    }
   ],
   "source": [
    "from fairscale.nn.model_parallel.layers import (\n",
    "    ParallelEmbedding,\n",
    "    RowParallelLinear,\n",
    "    ColumnParallelLinear,\n",
    ")\n",
    "from fairscale.nn.model_parallel import initialize as fs_init\n",
    "\n",
    "from torch import nn\n",
    "\n",
    "ParallelEmbedding(\n",
    "            1024, 2, init_method=nn.init.normal_,\n",
    "        )"
   ],
   "metadata": {
    "collapsed": false,
    "ExecuteTime": {
     "end_time": "2024-02-21T11:09:51.257806Z",
     "start_time": "2024-02-21T11:09:51.223764Z"
    }
   },
   "id": "c0f5d4530a838534"
  },
  {
   "cell_type": "code",
   "execution_count": 6,
   "id": "initial_id",
   "metadata": {
    "collapsed": true,
    "ExecuteTime": {
     "end_time": "2024-02-21T11:22:00.815163Z",
     "start_time": "2024-02-21T11:21:54.497706Z"
    }
   },
   "outputs": [
    {
     "ename": "ModuleNotFoundError",
     "evalue": "No module named 'flash_attn'",
     "output_type": "error",
     "traceback": [
      "\u001B[0;31m---------------------------------------------------------------------------\u001B[0m",
      "\u001B[0;31mModuleNotFoundError\u001B[0m                       Traceback (most recent call last)",
      "Cell \u001B[0;32mIn[6], line 3\u001B[0m\n\u001B[1;32m      1\u001B[0m \u001B[38;5;28;01mimport\u001B[39;00m \u001B[38;5;21;01mtorchvision\u001B[39;00m\u001B[38;5;21;01m.\u001B[39;00m\u001B[38;5;21;01mtransforms\u001B[39;00m \u001B[38;5;28;01mas\u001B[39;00m \u001B[38;5;21;01mtransforms\u001B[39;00m\n\u001B[1;32m      2\u001B[0m \u001B[38;5;28;01mfrom\u001B[39;00m \u001B[38;5;21;01mPIL\u001B[39;00m \u001B[38;5;28;01mimport\u001B[39;00m Image\n\u001B[0;32m----> 3\u001B[0m \u001B[38;5;28;01mfrom\u001B[39;00m \u001B[38;5;21;01mmodel\u001B[39;00m\u001B[38;5;21;01m.\u001B[39;00m\u001B[38;5;21;01mmeta\u001B[39;00m \u001B[38;5;28;01mimport\u001B[39;00m MetaModel\n\u001B[1;32m      4\u001B[0m \u001B[38;5;28;01mimport\u001B[39;00m \u001B[38;5;21;01mtorch\u001B[39;00m\n\u001B[1;32m      5\u001B[0m \u001B[38;5;28;01mfrom\u001B[39;00m \u001B[38;5;21;01mdata\u001B[39;00m\u001B[38;5;21;01m.\u001B[39;00m\u001B[38;5;21;01mconversation_lib\u001B[39;00m \u001B[38;5;28;01mimport\u001B[39;00m conv_templates, SeparatorStyle\n",
      "File \u001B[0;32m~/Desktop/OneLLMEF/model/meta.py:7\u001B[0m\n\u001B[1;32m      5\u001B[0m \u001B[38;5;28;01mimport\u001B[39;00m \u001B[38;5;21;01mos\u001B[39;00m\n\u001B[1;32m      6\u001B[0m \u001B[38;5;28;01mfrom\u001B[39;00m \u001B[38;5;21;01m.\u001B[39;00m\u001B[38;5;21;01mtokenizer\u001B[39;00m \u001B[38;5;28;01mimport\u001B[39;00m Tokenizer\n\u001B[0;32m----> 7\u001B[0m \u001B[38;5;28;01mfrom\u001B[39;00m \u001B[38;5;21;01m.\u001B[39;00m \u001B[38;5;28;01mimport\u001B[39;00m LLM\n\u001B[1;32m      9\u001B[0m \u001B[38;5;28;01mfrom\u001B[39;00m \u001B[38;5;21;01mfairscale\u001B[39;00m\u001B[38;5;21;01m.\u001B[39;00m\u001B[38;5;21;01mnn\u001B[39;00m\u001B[38;5;21;01m.\u001B[39;00m\u001B[38;5;21;01mmodel_parallel\u001B[39;00m \u001B[38;5;28;01mimport\u001B[39;00m initialize \u001B[38;5;28;01mas\u001B[39;00m fs_init\n\u001B[1;32m     12\u001B[0m \u001B[38;5;28;01mclass\u001B[39;00m \u001B[38;5;21;01mMetaModel\u001B[39;00m(nn\u001B[38;5;241m.\u001B[39mModule):\n",
      "File \u001B[0;32m~/Desktop/OneLLMEF/model/LLM/__init__.py:1\u001B[0m\n\u001B[0;32m----> 1\u001B[0m \u001B[38;5;28;01mfrom\u001B[39;00m \u001B[38;5;21;01m.\u001B[39;00m \u001B[38;5;28;01mimport\u001B[39;00m onellm\n",
      "File \u001B[0;32m~/Desktop/OneLLMEF/model/LLM/onellm.py:22\u001B[0m\n\u001B[1;32m     20\u001B[0m \u001B[38;5;28;01mfrom\u001B[39;00m \u001B[38;5;21;01mtorch\u001B[39;00m\u001B[38;5;21;01m.\u001B[39;00m\u001B[38;5;21;01mnn\u001B[39;00m \u001B[38;5;28;01mimport\u001B[39;00m Embedding\n\u001B[1;32m     21\u001B[0m \u001B[38;5;28;01mfrom\u001B[39;00m \u001B[38;5;21;01m.\u001B[39;00m\u001B[38;5;21;01m.\u001B[39;00m\u001B[38;5;21;01mcomponents\u001B[39;00m \u001B[38;5;28;01mimport\u001B[39;00m RMSNorm\n\u001B[0;32m---> 22\u001B[0m \u001B[38;5;28;01mfrom\u001B[39;00m \u001B[38;5;21;01mflash_attn\u001B[39;00m \u001B[38;5;28;01mimport\u001B[39;00m flash_attn_func\n\u001B[1;32m     24\u001B[0m \u001B[38;5;28;01mimport\u001B[39;00m \u001B[38;5;21;01mopen_clip\u001B[39;00m\n\u001B[1;32m     27\u001B[0m default_linear_init \u001B[38;5;241m=\u001B[39m nn\u001B[38;5;241m.\u001B[39minit\u001B[38;5;241m.\u001B[39mxavier_uniform_\n",
      "\u001B[0;31mModuleNotFoundError\u001B[0m: No module named 'flash_attn'"
     ]
    }
   ],
   "source": [
    "import torchvision.transforms as transforms\n",
    "from PIL import Image\n",
    "from model.meta import MetaModel\n",
    "import torch\n",
    "from data.conversation_lib import conv_templates, SeparatorStyle\n",
    "\n",
    "\n",
    "T_random_resized_crop = transforms.Compose([\n",
    "    transforms.RandomResizedCrop(size=(224, 224), scale=(0.9, 1.0), ratio=(0.75, 1.3333), interpolation=3,\n",
    "                                 antialias=None),  # 3 is bicubic\n",
    "    transforms.ToTensor(),\n",
    "    transforms.Normalize(mean=[0.48145466, 0.4578275, 0.40821073], std=[0.26862954, 0.26130258, 0.27577711])])\n",
    "\n",
    "\n",
    "\n",
    "model = MetaModel(llama_type='onellm', llama_config=r'config/llama2/7B.json',\n",
    "                  tokenizer_path=r'config/llama2/tokenizer.model')\n",
    "\n",
    "# load weights\n",
    "checkpoint = torch.load(r'weights_dir/consolidated.00-of-01.pth', map_location='cpu')\n",
    "msg = model.load_state_dict(checkpoint, strict=False)\n",
    "print(\"load result:\\n\", msg)\n",
    "model.cuda()\n",
    "model.eval()\n",
    "print(f\"Model = {str(model)}\")\n",
    "# load data (IMAGE)\n",
    "image = Image.open(input_path).convert('RGB')\n",
    "inputs = T_random_resized_crop(image)\n",
    "conv = conv_templates[\"v1\"].copy()\n",
    "\n",
    "# conv.append_message(conv.roles[0], user)\n",
    "# conv.append_message(conv.roles[1], bot)\n",
    "    \n",
    "stream_response = model.stream_generate(\n",
    "                'tell me more about this input', inputs,\n",
    "                max_gen_len=1024, temperature=0.1, top_p=0.75,\n",
    "                modal = 'image'\n",
    "            )\n",
    "conv_sep = (\n",
    "                    conv.sep\n",
    "                    if conv.sep_style == SeparatorStyle.SINGLE\n",
    "                    else conv.sep2\n",
    "                )\n",
    "print(stream_response)\n",
    "\n",
    "end_pos = stream_response[\"text\"].find(conv_sep)\n",
    "if end_pos != -1:\n",
    "    stream_response[\"text\"] = (\n",
    "        stream_response['text'][:end_pos].rstrip() + \"\\n\"\n",
    "    )\n",
    "    stream_response[\"end_of_content\"] = True\n",
    "\n",
    "# keep a few characters if not end_of_content to avoid sending\n",
    "# part of conv_sep before all of it is generated.\n",
    "if not stream_response[\"end_of_content\"]:\n",
    "    stream_response[\"text\"] = (\n",
    "        stream_response[\"text\"][:-len(conv_sep)]\n",
    "    )\n",
    "    \n",
    "    "
   ]
  },
  {
   "cell_type": "code",
   "execution_count": null,
   "outputs": [],
   "source": [],
   "metadata": {
    "collapsed": false
   },
   "id": "23b6deae16f26e98"
  }
 ],
 "metadata": {
  "kernelspec": {
   "display_name": "Python 3",
   "language": "python",
   "name": "python3"
  },
  "language_info": {
   "codemirror_mode": {
    "name": "ipython",
    "version": 2
   },
   "file_extension": ".py",
   "mimetype": "text/x-python",
   "name": "python",
   "nbconvert_exporter": "python",
   "pygments_lexer": "ipython2",
   "version": "2.7.6"
  }
 },
 "nbformat": 4,
 "nbformat_minor": 5
}
