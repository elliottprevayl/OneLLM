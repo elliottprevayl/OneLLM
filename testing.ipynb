{
 "cells": [
  {
   "cell_type": "code",
   "execution_count": 1,
   "id": "initial_id",
   "metadata": {
    "collapsed": true,
    "ExecuteTime": {
     "end_time": "2024-02-19T14:57:32.354313Z",
     "start_time": "2024-02-19T14:57:30.495804Z"
    }
   },
   "outputs": [],
   "source": [
    "import torch\n",
    "import numpy as np\n",
    "import torchvision.transforms as transforms\n",
    "from PIL import Image\n",
    "# from model.meta import MetaModel\n",
    "import torch\n",
    "from data.conversation_lib import conv_templates, SeparatorStyle\n",
    " \n"
   ]
  },
  {
   "cell_type": "code",
   "execution_count": 2,
   "outputs": [],
   "source": [
    "input_path = r'image.jpg'\n",
    "\n",
    "T_random_resized_crop = transforms.Compose([\n",
    "    transforms.RandomResizedCrop(size=(224, 224), scale=(0.9, 1.0), ratio=(0.75, 1.3333), interpolation=3,\n",
    "                                 antialias=None),  # 3 is bicubic\n",
    "    transforms.ToTensor(),\n",
    "    transforms.Normalize(mean=[0.48145466, 0.4578275, 0.40821073], std=[0.26862954, 0.26130258, 0.27577711])])\n",
    "\n"
   ],
   "metadata": {
    "collapsed": false,
    "ExecuteTime": {
     "end_time": "2024-02-19T14:57:36.078206Z",
     "start_time": "2024-02-19T14:57:36.072134Z"
    }
   },
   "id": "c3e501eb762ae132"
  },
  {
   "cell_type": "code",
   "execution_count": 3,
   "outputs": [],
   "source": [
    "image = Image.open(input_path).convert('RGB')\n",
    "inputs = T_random_resized_crop(image)"
   ],
   "metadata": {
    "collapsed": false,
    "ExecuteTime": {
     "end_time": "2024-02-19T14:57:37.017897Z",
     "start_time": "2024-02-19T14:57:36.990436Z"
    }
   },
   "id": "1324978bc59a61d2"
  },
  {
   "cell_type": "code",
   "execution_count": 5,
   "outputs": [
    {
     "data": {
      "text/plain": "Conversation(system=\"A chat between a curious human and an artificial intelligence assistant. The assistant gives helpful, detailed, and polite answers to the human's questions.\", roles=('Human', 'Assistant'), messages=[], offset=2, sep_style=<SeparatorStyle.SINGLE: 1>, sep='###', sep2=None, version='Unknown', skip_next=False)"
     },
     "execution_count": 5,
     "metadata": {},
     "output_type": "execute_result"
    }
   ],
   "source": [
    "conv = conv_templates[\"v1\"].copy()\n",
    "conv"
   ],
   "metadata": {
    "collapsed": false,
    "ExecuteTime": {
     "end_time": "2024-02-19T14:57:57.624977Z",
     "start_time": "2024-02-19T14:57:57.614366Z"
    }
   },
   "id": "a16e8d0ca1d0e54c"
  },
  {
   "cell_type": "code",
   "execution_count": 7,
   "outputs": [],
   "source": [
    "path = r'/Users/elliottfullerton/Downloads/000000000/10475.npy'\n",
    "\n",
    "t = np.load(path)\n"
   ],
   "metadata": {
    "collapsed": false,
    "ExecuteTime": {
     "end_time": "2024-02-19T15:06:17.101488Z",
     "start_time": "2024-02-19T15:06:17.095895Z"
    }
   },
   "id": "a62b6181d6519f41"
  },
  {
   "cell_type": "code",
   "execution_count": 11,
   "outputs": [
    {
     "data": {
      "text/plain": "array([[-0.05124 , -0.142   ,  0.005592, ...,  0.969   ,  0.0891  ,\n        -0.11115 ],\n       [-0.009796, -0.1941  ,  0.02437 , ...,  0.6606  ,  0.2231  ,\n        -0.03336 ],\n       [-0.08167 , -0.2893  ,  0.00707 , ...,  0.9023  ,  0.1688  ,\n         0.0355  ],\n       ...,\n       [-0.04776 ,  0.02002 , -0.12463 , ...,  0.2925  ,  0.0114  ,\n        -0.0341  ],\n       [ 0.0908  , -0.1621  ,  0.02684 , ...,  0.506   , -0.081   ,\n        -0.004913],\n       [-0.00319 , -0.0519  , -0.1375  , ...,  0.512   , -0.1054  ,\n        -0.006886]], dtype=float16)"
     },
     "execution_count": 11,
     "metadata": {},
     "output_type": "execute_result"
    }
   ],
   "source": [
    "t"
   ],
   "metadata": {
    "collapsed": false,
    "ExecuteTime": {
     "end_time": "2024-02-19T15:06:37.161455Z",
     "start_time": "2024-02-19T15:06:37.153192Z"
    }
   },
   "id": "12d4811df03ebc38"
  },
  {
   "cell_type": "code",
   "execution_count": null,
   "outputs": [],
   "source": [],
   "metadata": {
    "collapsed": false
   },
   "id": "41534dcd80c6be34"
  }
 ],
 "metadata": {
  "kernelspec": {
   "display_name": "Python 3",
   "language": "python",
   "name": "python3"
  },
  "language_info": {
   "codemirror_mode": {
    "name": "ipython",
    "version": 2
   },
   "file_extension": ".py",
   "mimetype": "text/x-python",
   "name": "python",
   "nbconvert_exporter": "python",
   "pygments_lexer": "ipython2",
   "version": "2.7.6"
  }
 },
 "nbformat": 4,
 "nbformat_minor": 5
}
